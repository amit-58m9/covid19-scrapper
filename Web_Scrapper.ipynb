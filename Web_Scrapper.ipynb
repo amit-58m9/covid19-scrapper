{
 "cells": [
  {
   "cell_type": "code",
   "execution_count": 2,
   "metadata": {},
   "outputs": [],
   "source": [
    "#Project on scraping COVID-19 news and statistics\n",
    "import requests"
   ]
  },
  {
   "cell_type": "code",
   "execution_count": 3,
   "metadata": {},
   "outputs": [],
   "source": [
    "from bs4 import BeautifulSoup"
   ]
  },
  {
   "cell_type": "code",
   "execution_count": 4,
   "metadata": {},
   "outputs": [
    {
     "name": "stdout",
     "output_type": "stream",
     "text": [
      "Connecting to Authentic News source, Please wait .....\n",
      "\n",
      "Connected\n",
      "--------------------------------------------------------------------------------------------\n",
      "       >>>>>>>>>>>>>>>>>>> INDIA's TOP 5 NEWS HEADLINES on CORONAVIRUS <<<<<<<<<<<<<<       \n",
      "--------------------------------------------------------------------------------------------\n",
      "\n",
      "1 :  COVID-19: Four Pfizer vaccine volunteers develop Bell`s palsy - Read details here\n",
      "2 :  Coronavirus live updates: Haryana announces opening of schools from December 14\n",
      "3 :  India's COVID-19 Vaccine Plans: The Main Candidates\n",
      "4 :  Neetu Kapoor tests positive for coronavirus\n",
      "5 :  Third wave of COVID-19 pandemic in Delhi ‘on the wane’: Delhi Health Minister\n"
     ]
    }
   ],
   "source": [
    "print (\"Connecting to Authentic News source, Please wait .....\\n\")\n",
    "news_site = \"https://news.google.com/topics/CAAqIggKIhxDQkFTRHdvSkwyMHZNREZqY0hsNUVnSmxiaWdBUAE?hl=en-IN&gl=IN&ceid=IN%3Aen\"\n",
    "r=requests.get(news_site)\n",
    "print('Connected')\n",
    "soup=BeautifulSoup(r.content,'html5lib')\n",
    "print (\"--------------------------------------------------------------------------------------------\")\n",
    "print (\"       >>>>>>>>>>>>>>>>>>> INDIA's TOP 5 NEWS HEADLINES on CORONAVIRUS <<<<<<<<<<<<<<       \")\n",
    "print (\"--------------------------------------------------------------------------------------------\\n\")\n",
    "table=soup.findAll('h3')\n",
    "for i in range(5):\n",
    "    print(i+1,': ',table[i].text)"
   ]
  },
  {
   "cell_type": "code",
   "execution_count": 6,
   "metadata": {},
   "outputs": [
    {
     "name": "stdout",
     "output_type": "stream",
     "text": [
      "--------------------------------------------------------------------------------------------\n",
      "       >>>>>>>>>>>>>>>>>>> WHO World Statistics<<<<<<<<<<<<<<       \n",
      "--------------------------------------------------------------------------------------------\n",
      "\n",
      "Connecting to the site....\n",
      "Connected\n",
      "Last updated on:  9:35am CET, 10 December 2020\n",
      "Total:  68,165,877 confirmed cases\n",
      "Total:  1,557,385 deaths\n"
     ]
    }
   ],
   "source": [
    "print (\"--------------------------------------------------------------------------------------------\")\n",
    "print (\"       >>>>>>>>>>>>>>>>>>> WHO World Statistics<<<<<<<<<<<<<<       \")\n",
    "print (\"--------------------------------------------------------------------------------------------\\n\")\n",
    "site=\"https://covid19.who.int\"\n",
    "print('Connecting to the site....')\n",
    "r=requests.get(site)\n",
    "soup=BeautifulSoup(r.content,'html5lib')\n",
    "print('Connected')\n",
    "cases=soup.findAll('h2')\n",
    "t=cases[1].find_all_next('span')\n",
    "print(\"Last updated on: \",t[1].text)\n",
    "print(\"Total: \",t[2].text)\n",
    "print(\"Total: \",t[3].text)"
   ]
  },
  {
   "cell_type": "code",
   "execution_count": 7,
   "metadata": {},
   "outputs": [
    {
     "name": "stdout",
     "output_type": "stream",
     "text": [
      "--------------------------------------------------------------------------------------------\n",
      "       >>>>>>>>>>>>>>>>>>>Ministry of Health and Family Welfare India Statistics<<<<<<<<<<<<<<       \n",
      "--------------------------------------------------------------------------------------------\n",
      "\n",
      "Connecting to the site.....\n",
      "Connected\n",
      "COVID-19 INDIA as on : 10 December 2020, 08:00 IST (GMT+5:30)\t[↑↓ Status change since yesterday]\n",
      "Active cases:  372293\n",
      "Total discharged :  9253306\n",
      "Total deaths:  141772\n"
     ]
    }
   ],
   "source": [
    "print (\"--------------------------------------------------------------------------------------------\")\n",
    "print (\"       >>>>>>>>>>>>>>>>>>>Ministry of Health and Family Welfare India Statistics<<<<<<<<<<<<<<       \")\n",
    "print (\"--------------------------------------------------------------------------------------------\\n\")\n",
    "site=\"https://www.mohfw.gov.in\"\n",
    "print('Connecting to the site.....')\n",
    "r=requests.get(site)\n",
    "soup=BeautifulSoup(r.content,'html5lib')\n",
    "print('Connected')\n",
    "details=soup.findAll('strong',attrs={'class':'mob-hide'})\n",
    "print(soup.findAll('h5')[1].text)\n",
    "print(\"Active cases: \",details[1].text.split()[0])\n",
    "print(\"Total discharged : \",details[3].text.split()[0])\n",
    "print(\"Total deaths: \",details[5].text.split()[0])"
   ]
  },
  {
   "cell_type": "code",
   "execution_count": 8,
   "metadata": {},
   "outputs": [
    {
     "name": "stdout",
     "output_type": "stream",
     "text": [
      "--------------------------------------------------------------------------------------------\n",
      "       >>>>>>>>>>>>>>>>>>>Statewise Statistics Mygov.in<<<<<<<<<<<<<<       \n",
      "--------------------------------------------------------------------------------------------\n",
      "\n",
      "Connecting to the site....\n",
      "Connected\n",
      "+-----------------------+-------------------+--------------+----------+--------+\n",
      "|         State         |  Confirmed Cases  |  Discharged  |  Deaths  | Active |\n",
      "+=======================+===================+==============+==========+========+\n",
      "|  Andaman and Nicobar  |       4783        |     4647     |    61    |  136   |\n",
      "+-----------------------+-------------------+--------------+----------+--------+\n",
      "|     Andhra Pradesh    |      873457       |    861153    |   7045   | 12304  |\n",
      "+-----------------------+-------------------+--------------+----------+--------+\n",
      "|   Arunachal Pradesh   |       16461       |    15697     |    55    |  764   |\n",
      "+-----------------------+-------------------+--------------+----------+--------+\n",
      "|         Assam         |      214165       |    209625    |   998    |  4540  |\n",
      "+-----------------------+-------------------+--------------+----------+--------+\n",
      "|         Bihar         |      239955       |    233298    |   1303   |  6657  |\n",
      "+-----------------------+-------------------+--------------+----------+--------+\n",
      "|       Chandigarh      |       18322       |    17128     |   297    |  1194  |\n",
      "+-----------------------+-------------------+--------------+----------+--------+\n",
      "|      Chhattisgarh     |      251120       |    228304    |   3038   | 22816  |\n",
      "+-----------------------+-------------------+--------------+----------+--------+\n",
      "|    Dadra and Nagar    |       3354        |     3331     |    2     |   23   |\n",
      "| Haveli and Daman and  |                   |              |          |        |\n",
      "|          Diu          |                   |              |          |        |\n",
      "+-----------------------+-------------------+--------------+----------+--------+\n",
      "|         Delhi         |      599575       |    569216    |   9813   | 30359  |\n",
      "+-----------------------+-------------------+--------------+----------+--------+\n",
      "|          Goa          |       49036       |    47056     |   703    |  1980  |\n",
      "+-----------------------+-------------------+--------------+----------+--------+\n",
      "|        Gujarat        |      222811       |    204661    |   4123   | 18150  |\n",
      "+-----------------------+-------------------+--------------+----------+--------+\n",
      "|        Haryana        |      248079       |    233696    |   2650   | 14383  |\n",
      "+-----------------------+-------------------+--------------+----------+--------+\n",
      "|    Himachal Pradesh   |       46930       |    38690     |   765    |  8240  |\n",
      "+-----------------------+-------------------+--------------+----------+--------+\n",
      "|   Jammu and Kashmir   |      114407       |    107624    |   1767   |  6783  |\n",
      "+-----------------------+-------------------+--------------+----------+--------+\n",
      "|       Jharkhand       |      110830       |    108100    |   991    |  2730  |\n",
      "+-----------------------+-------------------+--------------+----------+--------+\n",
      "|       Karnataka       |      896563       |    861588    |  11900   | 34975  |\n",
      "+-----------------------+-------------------+--------------+----------+--------+\n",
      "|         Kerala        |      649571       |    586998    |   2507   | 62573  |\n",
      "+-----------------------+-------------------+--------------+----------+--------+\n",
      "|         Ladakh        |       9045        |     8104     |   122    |  941   |\n",
      "+-----------------------+-------------------+--------------+----------+--------+\n",
      "|      Lakshadweep      |         0         |      0       |    0     |   0    |\n",
      "+-----------------------+-------------------+--------------+----------+--------+\n",
      "|      Maharashtra      |      1864348      |   1742131    |  47902   | 122217 |\n",
      "+-----------------------+-------------------+--------------+----------+--------+\n",
      "|        Manipur        |       26534       |    23301     |   318    |  3233  |\n",
      "+-----------------------+-------------------+--------------+----------+--------+\n",
      "|       Meghalaya       |       12511       |    11855     |   122    |  656   |\n",
      "+-----------------------+-------------------+--------------+----------+--------+\n",
      "|        Mizoram        |       3994        |     3784     |    6     |  210   |\n",
      "+-----------------------+-------------------+--------------+----------+--------+\n",
      "|     Madhya Pradesh    |      218574       |    201987    |   3366   | 16587  |\n",
      "+-----------------------+-------------------+--------------+----------+--------+\n",
      "|        Nagaland       |       11508       |    10849     |    67    |  659   |\n",
      "+-----------------------+-------------------+--------------+----------+--------+\n",
      "|         Odisha        |      322299       |    317412    |   1789   |  4887  |\n",
      "+-----------------------+-------------------+--------------+----------+--------+\n",
      "|       Puducherry      |       37339       |    36354     |   615    |  985   |\n",
      "+-----------------------+-------------------+--------------+----------+--------+\n",
      "|         Punjab        |      157928       |    145623    |   4980   | 12305  |\n",
      "+-----------------------+-------------------+--------------+----------+--------+\n",
      "|       Rajasthan       |      285627       |    263350    |   2485   | 22277  |\n",
      "+-----------------------+-------------------+--------------+----------+--------+\n",
      "|         Sikkim        |       5239        |     4754     |   117    |  485   |\n",
      "+-----------------------+-------------------+--------------+----------+--------+\n",
      "|       Tamil Nadu      |      794020       |    771693    |  11836   | 22327  |\n",
      "+-----------------------+-------------------+--------------+----------+--------+\n",
      "|       Telengana       |      275904       |    266925    |   1482   |  8979  |\n",
      "+-----------------------+-------------------+--------------+----------+--------+\n",
      "|        Tripura        |       32976       |    32204     |   373    |  772   |\n",
      "+-----------------------+-------------------+--------------+----------+--------+\n",
      "|     Uttar Pradesh     |      559499       |    530854    |   7987   | 28645  |\n",
      "+-----------------------+-------------------+--------------+----------+--------+\n",
      "|      Uttarakhand      |       79656       |    72880     |   1320   |  6776  |\n",
      "+-----------------------+-------------------+--------------+----------+--------+\n",
      "|      West Bengal      |      510951       |    478434    |   8867   | 32517  |\n",
      "+-----------------------+-------------------+--------------+----------+--------+\n"
     ]
    }
   ],
   "source": [
    "import texttable as tt\n",
    "print (\"--------------------------------------------------------------------------------------------\")\n",
    "print (\"       >>>>>>>>>>>>>>>>>>>Statewise Statistics Mygov.in<<<<<<<<<<<<<<       \")\n",
    "print (\"--------------------------------------------------------------------------------------------\\n\")\n",
    "site=\"https://www.mygov.in/corona-data/covid19-statewise-status\"\n",
    "print('Connecting to the site....')\n",
    "r=requests.get(site)\n",
    "soup=BeautifulSoup(r.content,'html5lib')\n",
    "print('Connected')\n",
    "\n",
    "states=soup.findAll('div',attrs={'class':'field-name-field-select-state'})\n",
    "confirmed=soup.findAll('div',attrs={'class':'field-name-field-total-confirmed-indians'})\n",
    "discharged=soup.findAll('div',attrs={'class':'field-name-field-cured'})\n",
    "death=soup.findAll('div',attrs={'class':'field-name-field-deaths'})\n",
    "data=[]\n",
    "for i in range(len(death)):\n",
    "    s=states[i].text.replace('State Name:','')    #State Name: Uttarakhand\n",
    "    c=confirmed[i].text.replace('Total Confirmed:','')\n",
    "    d=discharged[i].text.replace('Cured/ Discharged/ Migrated:','')\n",
    "    dt=death[i].text.replace('Death:','')\n",
    "    #print(s,c,d,dt)\n",
    "    data.append((s,c,d,dt,int(c)-int(d)))\n",
    "\n",
    "table = tt.Texttable()\n",
    "table.add_rows([(None, None, None, None,None)] + data) \n",
    "# 'l' denotes left, 'c' denotes center,\n",
    "# and 'r' denotes right\n",
    "table.set_cols_align(('c', 'c', 'c', 'c','c'))  \n",
    "table.header((' State ', ' Confirmed Cases ', ' Discharged ', ' Deaths ','Active'))\n",
    " \n",
    "print(table.draw())"
   ]
  },
  {
   "cell_type": "code",
   "execution_count": null,
   "metadata": {},
   "outputs": [],
   "source": []
  },
  {
   "cell_type": "code",
   "execution_count": null,
   "metadata": {},
   "outputs": [],
   "source": []
  },
  {
   "cell_type": "code",
   "execution_count": null,
   "metadata": {},
   "outputs": [],
   "source": []
  },
  {
   "cell_type": "code",
   "execution_count": null,
   "metadata": {},
   "outputs": [],
   "source": []
  },
  {
   "cell_type": "code",
   "execution_count": 5,
   "metadata": {},
   "outputs": [
    {
     "name": "stdout",
     "output_type": "stream",
     "text": [
      "--------------------------------------------------------------------------------------------\n",
      "       >>>>>>>>>>>>>>>>>>>Ministry of Health and Family Welfare India Statistics<<<<<<<<<<<<<<       \n",
      "--------------------------------------------------------------------------------------------\n",
      "\n",
      "Connecting to the site.....\n",
      "Connected\n",
      "COVID-19 INDIA as on : 10 December 2020, 08:00 IST (GMT+5:30)\t[↑↓ Status change since yesterday]\n",
      "Active cases:  372293\n",
      "Total discharged :  9253306\n",
      "Total deaths:  141772\n"
     ]
    }
   ],
   "source": [
    "import requests \n",
    "from bs4 import BeautifulSoup \n",
    "  \n",
    "print (\"--------------------------------------------------------------------------------------------\")\n",
    "print (\"       >>>>>>>>>>>>>>>>>>>Ministry of Health and Family Welfare India Statistics<<<<<<<<<<<<<<       \")\n",
    "print (\"--------------------------------------------------------------------------------------------\\n\")\n",
    "site=\"https://www.mohfw.gov.in\"\n",
    "print('Connecting to the site.....')\n",
    "r=requests.get(site)\n",
    "soup=BeautifulSoup(r.content,'html5lib')\n",
    "print('Connected')\n",
    "details=soup.findAll('strong',attrs={'class':'mob-hide'})\n",
    "print(soup.findAll('h5')[1].text)\n",
    "print(\"Active cases: \",details[1].text.split()[0])\n",
    "print(\"Total discharged : \",details[3].text.split()[0])\n",
    "print(\"Total deaths: \",details[5].text.split()[0])"
   ]
  },
  {
   "cell_type": "code",
   "execution_count": 150,
   "metadata": {},
   "outputs": [],
   "source": []
  },
  {
   "cell_type": "code",
   "execution_count": 144,
   "metadata": {},
   "outputs": [],
   "source": []
  },
  {
   "cell_type": "code",
   "execution_count": null,
   "metadata": {},
   "outputs": [],
   "source": []
  },
  {
   "cell_type": "code",
   "execution_count": null,
   "metadata": {},
   "outputs": [],
   "source": []
  }
 ],
 "metadata": {
  "kernelspec": {
   "display_name": "Python 3",
   "language": "python",
   "name": "python3"
  },
  "language_info": {
   "codemirror_mode": {
    "name": "ipython",
    "version": 3
   },
   "file_extension": ".py",
   "mimetype": "text/x-python",
   "name": "python",
   "nbconvert_exporter": "python",
   "pygments_lexer": "ipython3",
   "version": "3.7.4"
  }
 },
 "nbformat": 4,
 "nbformat_minor": 2
}
